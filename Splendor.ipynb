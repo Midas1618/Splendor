{
  "cells": [
    {
      "cell_type": "markdown",
      "metadata": {
        "id": "view-in-github",
        "colab_type": "text"
      },
      "source": [
        "<a href=\"https://colab.research.google.com/github/Midas1618/Splendor/blob/master/Splendor.ipynb\" target=\"_parent\"><img src=\"https://colab.research.google.com/assets/colab-badge.svg\" alt=\"Open In Colab\"/></a>"
      ]
    },
    {
      "cell_type": "code",
      "execution_count": 2,
      "metadata": {
        "colab": {
          "base_uri": "https://localhost:8080/"
        },
        "id": "j0DqAEbDM-2u",
        "outputId": "034d03be-24de-48b5-b280-687e6ca60e18"
      },
      "outputs": [
        {
          "output_type": "stream",
          "name": "stdout",
          "text": [
            "Requirement already satisfied: colorama in /usr/local/lib/python3.7/dist-packages (0.4.4)\n",
            "Cloning into 'Splendor'...\n",
            "remote: Enumerating objects: 2226, done.\u001b[K\n",
            "remote: Counting objects: 100% (2226/2226), done.\u001b[K\n",
            "remote: Compressing objects: 100% (1373/1373), done.\u001b[K\n",
            "remote: Total 2226 (delta 850), reused 2226 (delta 850), pack-reused 0\u001b[K\n",
            "Receiving objects: 100% (2226/2226), 3.98 MiB | 9.35 MiB/s, done.\n",
            "Resolving deltas: 100% (850/850), done.\n"
          ]
        }
      ],
      "source": [
        "!pip install colorama\n",
        "!git clone https://github.com/Midas1618/Splendor.git"
      ]
    },
    {
      "cell_type": "code",
      "execution_count": 3,
      "metadata": {
        "colab": {
          "base_uri": "https://localhost:8080/"
        },
        "id": "kHC8YdGINXEZ",
        "outputId": "edc2e08a-4062-4861-c457-96e87a138683"
      },
      "outputs": [
        {
          "output_type": "stream",
          "name": "stdout",
          "text": [
            "[Errno 2] No such file or directory: 'Splender-Similar/'\n",
            "/content\n"
          ]
        }
      ],
      "source": [
        "%cd Splender-Similar/"
      ]
    },
    {
      "cell_type": "code",
      "execution_count": null,
      "metadata": {
        "id": "hcG4u3OrNoV6"
      },
      "outputs": [],
      "source": [
        "for a in range(400):\n",
        "    !python main1.py"
      ]
    },
    {
      "cell_type": "code",
      "execution_count": null,
      "metadata": {
        "id": "SacJiJ8FJqtf"
      },
      "outputs": [],
      "source": [
        "!zip -r /content/file.zip /content/Splender-Similar/players/S.P.L.E.N.D.O.R.\n",
        "from google.colab import files\n",
        "files.download(\"/content/file.zip\")"
      ]
    },
    {
      "cell_type": "code",
      "execution_count": null,
      "metadata": {
        "id": "M9B8idtHQ71p"
      },
      "outputs": [],
      "source": [
        "import random as rd\n",
        "a = [5,10,20]\n",
        "b = [1,2,30]\n",
        "rd.choices(a,weights=b)"
      ]
    },
    {
      "cell_type": "code",
      "execution_count": null,
      "metadata": {
        "id": "2hwNT5U7GrlC"
      },
      "outputs": [],
      "source": [
        "import json\n",
        "abcd = [{1:\"a\"},{2:\"b\"}]\n",
        "with open(\"sample.json\", \"w\") as outfile:\n",
        "    json.dump(abcd, outfile)\n"
      ]
    },
    {
      "cell_type": "code",
      "execution_count": null,
      "metadata": {
        "colab": {
          "base_uri": "https://localhost:8080/"
        },
        "id": "IydiAknxalXn",
        "outputId": "698fff0b-51be-41ac-9293-3e128f08ca23"
      },
      "outputs": [
        {
          "data": {
            "text/plain": [
              "[{'1': 'a'}, {'2': 'b'}]"
            ]
          },
          "execution_count": 88,
          "metadata": {},
          "output_type": "execute_result"
        }
      ],
      "source": [
        "f = open(\"sample.json\")\n",
        "json.load(f)"
      ]
    },
    {
      "cell_type": "code",
      "source": [
        "!git config --global user.email 'nhatanh.wordofmouth@gmail.com'\n",
        "!git config --global user.name 'Midas1618'\n",
        "!git pull\n"
      ],
      "metadata": {
        "colab": {
          "base_uri": "https://localhost:8080/"
        },
        "id": "Q9cCq68Ueaj5",
        "outputId": "fc146211-8c62-497e-f8c6-f1365eeb65a2"
      },
      "execution_count": 9,
      "outputs": [
        {
          "output_type": "stream",
          "name": "stdout",
          "text": [
            "fatal: not a git repository (or any of the parent directories): .git\n"
          ]
        }
      ]
    },
    {
      "cell_type": "code",
      "source": [
        ""
      ],
      "metadata": {
        "id": "Q64JVQYGei03"
      },
      "execution_count": null,
      "outputs": []
    }
  ],
  "metadata": {
    "colab": {
      "name": "Splendor.ipynb",
      "provenance": [],
      "mount_file_id": "1aqb7wevGjGz_PT4oliZAo9cIVu12uvXy",
      "authorship_tag": "ABX9TyOUZs6nvm8kcrF6h2KRwt97",
      "include_colab_link": true
    },
    "kernelspec": {
      "display_name": "Python 3",
      "name": "python3"
    },
    "language_info": {
      "name": "python"
    }
  },
  "nbformat": 4,
  "nbformat_minor": 0
}